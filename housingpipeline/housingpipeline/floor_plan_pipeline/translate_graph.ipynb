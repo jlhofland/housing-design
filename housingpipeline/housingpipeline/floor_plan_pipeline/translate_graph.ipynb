{
 "cells": [
  {
   "cell_type": "code",
   "execution_count": 77,
   "metadata": {},
   "outputs": [],
   "source": [
    "import dgl\n",
    "import os\n",
    "import torch\n",
    "\n",
    "def one_hot_embedding(labels, num_classes=11):\n",
    "    \"\"\"Embedding labels to one-hot form.\n",
    "\n",
    "    Args:\n",
    "      labels: (LongTensor) class labels, sized [N,].\n",
    "      num_classes: (int) number of classes.\n",
    "\n",
    "    Returns:\n",
    "      (tensor) encoded labels, sized [N, #classes].\n",
    "    \"\"\"\n",
    "    y = torch.eye(num_classes)\n",
    "    # print(\" label is\",labels)\n",
    "    return y[labels]\n",
    "\n",
    "\"\"\"\n",
    "Intent of this function is to convert a DGL-Heterograph into a list of nodes, edges, and edge features per the following format. \n",
    "This allows heterohouseganpp to then convert the graph data into a floor plan img.\n",
    "\n",
    "    \"nds\": all graph nodes with features in an (Nx13) list. Each node is represented as a one-hot encoded vector with 11 classes, concatinated with the node features [length, door/no door], this is [-1,-1] for room nodes.\n",
    "    \"eds\": all graph edges in a Ex3 list, with each edge represented as [src_node_id, +1/-1, dest_node_id] where +1 indicates an edge is present, -1 otherwise\n",
    "    \"eds_f\": all graph edge types & features in an Nx3 list, with each entry represented as [edge type (0 - CE, or 1 - RA), edge feature 1, edge feature 2]\n",
    "\n",
    "Steps:\n",
    "\n",
    "    1) For nds:\n",
    "        a) extract node type integers and node features for the exterior walls\n",
    "        b) create [-1, -1] node features for each of the room-type nodes\n",
    "        c) one-hot encode the node types\n",
    "        d) concatenate the features\n",
    "        e) append to list\n",
    "    2) For eds:\n",
    "        a) \n",
    "\"\"\"\n",
    "\n",
    "os.chdir(\"/home/evalexii/Documents/IAAIP/housing-design/housingpipeline/housingpipeline/floor_plan_pipeline/\")\n",
    "\n"
   ]
  },
  {
   "cell_type": "code",
   "execution_count": 13,
   "metadata": {},
   "outputs": [
    {
     "name": "stdout",
     "output_type": "stream",
     "text": [
      "<class 'dgl.heterograph.DGLGraph'>\n"
     ]
    }
   ],
   "source": [
    "g = dgl.load_graphs(\"./misc/sample_graph.bin\")[0][0]\n",
    "print(type(g))\n",
    "\n",
    "hg = dgl.to_homogeneous(g, edata=['e'], store_type=True, return_count=True)\n",
    "\n",
    "# # Uncomment to print out partial graph\n",
    "# for c_et in g.canonical_etypes:\n",
    "#     if g.num_edges(c_et) > 0:\n",
    "#         print(f\"Edge numbers: {c_et} : {g.num_edges(c_et)}\")\n",
    "#         print(f\"Edge features: {c_et} :\\n {g.edges[c_et].data['e']}\")\n",
    "# for nt in g.ntypes:\n",
    "#     if g.num_nodes(nt) > 0:\n",
    "#         print(f\"Node features: {nt} :\\n {g.nodes[nt].data}\")"
   ]
  },
  {
   "cell_type": "code",
   "execution_count": 90,
   "metadata": {},
   "outputs": [],
   "source": [
    "nds = []\n",
    "eds = []\n",
    "eds_f = []\n",
    "\n",
    "names_node_types = g.ntypes\n",
    "names_canon_etypes = g.canonical_etypes\n",
    "ids_node_types = hg[0].ndata['_TYPE']\n",
    "ew_features = g.nodes['exterior_wall'].data['hf']\n",
    "\n",
    "node_type_counts = hg[1]\n",
    "num_nodes = torch.sum(torch.tensor(node_type_counts)).item()\n",
    "canon_etype_counts = hg[2]\n",
    "num_edges = torch.sum(torch.tensor(canon_etype_counts)).item()\n",
    "\n",
    "'''\n",
    "Create node feature tensor\n",
    "'''\n",
    "# create empty node feature tensor\n",
    "nds_f = torch.full((ids_node_types.shape[0],2), fill_value = -1.0)\n",
    "# find nodetype id of EW's\n",
    "ew_type_id = names_node_types.index('exterior_wall')\n",
    "# find node ids of EW's\n",
    "ew_ids = torch.argwhere(ids_node_types == ew_type_id).flatten()\n",
    "# insert ew nd features\n",
    "nds_f[ew_ids] = ew_features\n",
    "\n",
    "'''\n",
    "Create one-hot'd node type tensor\n",
    "'''\n",
    "nds_t = one_hot_embedding(labels=ids_node_types, num_classes=len(g.ntypes))\n",
    "\n",
    "\n",
    "'''\n",
    "Create final nds list\n",
    "'''\n",
    "nds = torch.concatenate([nds_t, nds_f], dim=1).tolist()"
   ]
  },
  {
   "cell_type": "code",
   "execution_count": 89,
   "metadata": {},
   "outputs": [],
   "source": [
    "'''\n",
    "Create initial edge tensor with all edges -1\n",
    "'''\n",
    "\n",
    "eds = torch.full((num_edges, 3), fill_value= -1)"
   ]
  },
  {
   "cell_type": "code",
   "execution_count": 91,
   "metadata": {},
   "outputs": [
    {
     "data": {
      "text/plain": [
       "11"
      ]
     },
     "execution_count": 91,
     "metadata": {},
     "output_type": "execute_result"
    }
   ],
   "source": [
    "num_nodes"
   ]
  },
  {
   "cell_type": "code",
   "execution_count": 76,
   "metadata": {},
   "outputs": [
    {
     "data": {
      "text/plain": [
       "1"
      ]
     },
     "execution_count": 76,
     "metadata": {},
     "output_type": "execute_result"
    }
   ],
   "source": [
    "hg[0].ndata['_TYPE'].dim()"
   ]
  },
  {
   "cell_type": "code",
   "execution_count": 41,
   "metadata": {},
   "outputs": [],
   "source": []
  }
 ],
 "metadata": {
  "kernelspec": {
   "display_name": "Python 3",
   "language": "python",
   "name": "python3"
  },
  "language_info": {
   "codemirror_mode": {
    "name": "ipython",
    "version": 3
   },
   "file_extension": ".py",
   "mimetype": "text/x-python",
   "name": "python",
   "nbconvert_exporter": "python",
   "pygments_lexer": "ipython3",
   "version": "3.8.10"
  },
  "orig_nbformat": 4
 },
 "nbformat": 4,
 "nbformat_minor": 2
}
