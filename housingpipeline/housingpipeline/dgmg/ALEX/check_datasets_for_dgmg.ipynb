{
  "cells": [
    {
      "cell_type": "code",
      "execution_count": 1,
      "metadata": {
        "id": "dN0_dtgsXQcf"
      },
      "outputs": [],
      "source": [
        "#@title Imports\n",
        "\n",
        "import numpy as np\n",
        "import numpy.ma as ma\n",
        "import matplotlib.pyplot as plt\n",
        "import os\n",
        "import json\n",
        "import pickle\n",
        "import itertools\n",
        "from tqdm import tqdm\n",
        "import time"
      ]
    },
    {
      "cell_type": "markdown",
      "metadata": {},
      "source": [
        "USER_INPUT FILES\n",
        "\n",
        "if (two buildings): skip\n",
        "calculate number of living rooms, bedrooms, bathrooms\n",
        "create exterior_wall list\n",
        "\tfind bottom-left point\n",
        "\tfind_indices_of_edges_with_bottom_left_point\n",
        "\tfind_outermost_clockwise_edge_id_from_bottom_left\n",
        "\tfind_clockwise_chain\n",
        "create connections_corners\n",
        "\tduring exterior_wall find_clockwise_chain, append list of corners as we go\n",
        "connections_rooms\n",
        "\tcalculate number of each room_type\n",
        "\tfor every edge in edge-to-room-mapping\n",
        "\tfilter edge-to-room-mapping to have only the pairs (these are our room--to-room-adjacencies)"
      ]
    },
    {
      "cell_type": "code",
      "execution_count": 2,
      "metadata": {},
      "outputs": [],
      "source": [
        "import numpy as np\n",
        "data = np.load(\"/home/evalexii/Documents/IAAIP/datasets/housegan_clean_data.npy\", None, True)\n"
      ]
    },
    {
      "cell_type": "code",
      "execution_count": 8,
      "metadata": {},
      "outputs": [],
      "source": [
        "import matplotlib.pyplot as plt\n",
        "ROOM_CLASS = {0: \"exterior_wall\", 1:\"living_room\", 2:\"kitchen\", 3:\"bedroom\", 4:\"bathroom\", 5:\"missing\", 6:\"closet\", 7:\"balcony\", 8:\"corridor\", 9:\"dining_room\", 10:\"laundry_room\"}"
      ]
    },
    {
      "cell_type": "code",
      "execution_count": 12,
      "metadata": {
        "cellView": "form",
        "id": "hJTT6psBW6AJ"
      },
      "outputs": [
        {
          "name": "stdout",
          "output_type": "stream",
          "text": [
            "4 139 70 252\n"
          ]
        },
        {
          "data": {
            "image/png": "[encoded data removed]",
            "text/plain": [
              "<Figure size 640x480 with 1 Axes>"
            ]
          },
          "metadata": {},
          "output_type": "display_data"
        }
      ],
      "source": [
        "house_number = 11\n",
        "\n",
        "edges = np.array(data[house_number][2])[:, 0:4]\n",
        "edge_adjacencies = np.array(data[house_number][3])\n",
        "doors = np.array(data[house_number][4])\n",
        "rooms = np.array(data[house_number][1])\n",
        "room_types = np.array(data[house_number][0])\n",
        "\n",
        "#@title Plotting\n",
        "\n",
        "def find_approximate_centroid(room_idx, house_edges, house_edge_adjacencies):\n",
        "  # room_idx = data[house_nr][0].index(room_type)\n",
        "  room_edge_ids = [id for id, edge in enumerate(house_edge_adjacencies) if room_idx in edge]\n",
        "  room_edges = np.array(house_edges)[room_edge_ids]\n",
        "  # Weight each edge by it's length\n",
        "  weights = np.linalg.norm(room_edges[:,[2,3]] - room_edges[:,[0,1]], axis=1)**1.5\n",
        "  # Uncomment below to remove weights\n",
        "  # weights = np.ones(len(room_edges))\n",
        "  # print(f\"weights:\\n {weights}\")\n",
        "  # print(f\"roomedges:\\n {room_edges}\")\n",
        "  x = np.concatenate([room_edges[:,0].reshape(-1,1), room_edges[:,2].reshape(-1,1)], axis=1)\n",
        "  x_avg = np.mean(x, axis=1).reshape(-1,1)\n",
        "  y = np.concatenate([room_edges[:,1].reshape(-1,1), room_edges[:,3].reshape(-1,1)], axis=1)\n",
        "  y_avg = np.mean(y, axis=1).reshape(-1,1)\n",
        "  room_edge_midpoints = np.concatenate((x_avg, y_avg), axis=1)\n",
        "  # print(f\"room_edge_midpoints:\\n {room_edge_midpoints}\")\n",
        "  room_x, room_y = np.average(room_edge_midpoints, axis = 0, weights=weights)\n",
        "  return room_x, room_y\n",
        "\n",
        "# Plotting\n",
        "fig, ax = plt.subplots()\n",
        "ax.set_title(\"House with walls, Red ones have doors\")\n",
        "for num, edge in enumerate(edges):\n",
        "  x = np.array([edge[0], edge[2]])\n",
        "  x_avg = np.mean(x)\n",
        "  y = np.array([edge[1], edge[3]])\n",
        "  y_avg = np.mean(y)\n",
        "  if num in doors:\n",
        "    ax.plot(x,y, \"r\")\n",
        "    plt.scatter(x_avg, y_avg, c=\"#FF0000\")\n",
        "  else:\n",
        "    ax.plot(x,y, \"b\")\n",
        "    plt.scatter(x_avg, y_avg, c=\"#0000FF\")\n",
        "for room_idx, room_type in enumerate(room_types):\n",
        "  center_x, center_y = find_approximate_centroid(room_idx, edges, edge_adjacencies)\n",
        "  plt.text(center_x+4, center_y-3, ROOM_CLASS[room_types[room_idx]])\n",
        "  plt.scatter(center_x, center_y, c=\"#000000\")\n",
        "ax.set_aspect('equal')\n",
        "for bb in rooms:\n",
        "    x0, y0, x1, y1 = bb\n",
        "    print(x0, y0, x1, y1)\n",
        "    height = y1-y0\n",
        "    width = x1-x0\n",
        "    ax.add_patch(plt.Rectangle((x0,y0), width, height))\n",
        "plt.show()"
      ]
    },
    {
      "cell_type": "code",
      "execution_count": 3,
      "metadata": {
        "cellView": "form",
        "id": "_ug47sv5-L1g"
      },
      "outputs": [],
      "source": [
        "#@title Define file processing functions\n",
        "\n",
        "def v_swap(edge):\n",
        "  # edge = edge.copy\n",
        "  edge[[0,1,2,3]] = edge[[2,3,0,1]]\n",
        "  # return edge\n",
        "\n",
        "def find_bottom_left_point(edges):\n",
        "  \"\"\"\n",
        "  Input:\n",
        "    N edges [x0, y0, x1, y1]\n",
        "\n",
        "  Output:\n",
        "    [x, y] with lowest L1-norm\n",
        "  \"\"\"\n",
        "  min = 9e9\n",
        "  min_coords = (9e9, 9e9)\n",
        "  for edge in edges:\n",
        "    l1_dist1 = np.sum(edge[0:2])\n",
        "    if l1_dist1 < min:\n",
        "      min = l1_dist1\n",
        "      min_coords = edge[0:2]\n",
        "    l1_dist2 = np.sum(edge[2:4])\n",
        "    if l1_dist2 < min:\n",
        "      min = l1_dist2\n",
        "      min_coords = edge[2:4]\n",
        "  return min_coords\n",
        "\n",
        "def find_indices_of_edges_with_bottom_left_point(edges, bottomleft):\n",
        "  \"\"\"\n",
        "  Input:\n",
        "    edges: N edges [x0, y0, x1, y1]\n",
        "    bottomleft: [x, y] with lowest L1-norm\n",
        "\n",
        "  Output:\n",
        "    indices of edges where bottomleft == [x0,y0] or [x1,y1]\n",
        "  \"\"\"\n",
        "  ids = []\n",
        "  for i, edge in enumerate(edges):\n",
        "    if (edge[0] == bottomleft[0] and edge[1] == bottomleft[1]) or (edge[2] == bottomleft[0] and edge[3] == bottomleft[1]):\n",
        "      ids += [i]\n",
        "  return np.unique(np.array(ids))\n",
        "\n",
        "def edges_swap_bottom_left_to_x0y0(edges):\n",
        "  \"\"\"\n",
        "  Checks if L1-norm of x0,y0 < x1,y1. If not, swap\n",
        "  \"\"\"\n",
        "  for edge in edges:\n",
        "    if np.sum(edge[0:2]) > np.sum(edge[2:4]):\n",
        "      v_swap(edge)\n",
        "\n",
        "def find_outermost_clockwise_edge_id_from_bottom_left(edges, candidate_ids):\n",
        "  \"\"\"\n",
        "  Input:\n",
        "    edges: N edges [x0, y0, x1, y1]\n",
        "    candidate_ids: indices of edges that have the bottom_left point\n",
        "\n",
        "  Output:\n",
        "    Index of edge pointing most along 135 degrees\n",
        "  \"\"\"\n",
        "  x_axis = [1,0]\n",
        "  vectors = edges[candidate_ids, 2:4] - edges[candidate_ids, 0:2]\n",
        "\n",
        "  angles = np.arccos(\n",
        "      np.sum(x_axis * vectors, axis=1) / np.linalg.norm(x_axis) / np.linalg.norm(vectors, axis=1)\n",
        "  )\n",
        "\n",
        "  return candidate_ids[np.argmax(angles)]\n",
        "\n",
        "def find_clockwise_chain(edges, starting_id):\n",
        "  \"\"\"\n",
        "  Input:\n",
        "    TODO make input be just edges, not specifically exterior wall edges\n",
        "    edges: N exterior_wall edges [id, x0, y0, x1, y1, D]\n",
        "    starting_id: index of first edge in clockwise chain\n",
        "\n",
        "  Output:\n",
        "    List of N exterior_wall edges [id, x0, y0, x1, y1, D], in clockwise order\n",
        "  \"\"\"\n",
        "  chain = edges[starting_id].reshape(1, -1)\n",
        "  consumed_ids = [starting_id]\n",
        "  last = chain[-1]\n",
        "\n",
        "  while len(consumed_ids) < edges.shape[0]:\n",
        "    last = chain[-1]\n",
        "\n",
        "    for i, edge in enumerate(edges):\n",
        "      if i in consumed_ids:\n",
        "        continue\n",
        "\n",
        "      if tuple(edge[1:3]) == tuple(last[3:5]):\n",
        "        chain = np.concatenate((chain, edge.copy().reshape(1,-1)), axis=0)\n",
        "        consumed_ids.append(i)\n",
        "        break\n",
        "      elif tuple(edge[3:5]) == tuple(last[3:5]):\n",
        "        v_swap(edge[1:-1])\n",
        "        chain = np.concatenate((chain, edge.copy().reshape(1,-1)), axis=0)\n",
        "        consumed_ids.append(i)\n",
        "        break\n",
        "\n",
        "  return chain.tolist()"
      ]
    },
    {
      "cell_type": "code",
      "execution_count": 4,
      "metadata": {
        "id": "EuNly-3NYqdY"
      },
      "outputs": [
        {
          "name": "stderr",
          "output_type": "stream",
          "text": [
            "tqdm() Progress Bar:   0%|          | 0/132569 [00:00<?, ?it/s]\n"
          ]
        }
      ],
      "source": [
        "#@title Process folder of user-inputs\n",
        "\n",
        "NUM_ROOM_TYPES = 11\n",
        "ui_dicts = {}\n",
        "i = 0\n",
        "skipped_ids = []\n",
        "for filename in tqdm(os.listdir(\"/home/evalexii/Documents/IAAIP/datasets/user_inputs_list_25_10/\"), desc = 'tqdm() Progress Bar'):\n",
        "  try:\n",
        "    with open(\"/home/evalexii/Documents/IAAIP/datasets/user_inputs_list_25_10/\" + filename) as file:\n",
        "      ui_dict = json.load(file)\n",
        "      ui_dict[\"filename\"] = file.name[63::]\n",
        "      ui_dict[\"floorplan_number\"] = int(file.name[63:-5:])\n",
        "\n",
        "      # flatten exterior_walls lists\n",
        "      for i, ew in enumerate(ui_dict[\"exterior_walls\"]):\n",
        "        ui_dict[\"exterior_walls\"][i] = [ew[0]]+ew[1]+[ew[2]]\n",
        "\n",
        "      # re-order ews\n",
        "      ews = np.array(ui_dict[\"exterior_walls\"])\n",
        "      ews_orig = ews.copy()\n",
        "      ew_edges = ews[:,1:-1]\n",
        "      bottom_left_point = find_bottom_left_point(ew_edges)\n",
        "      candidate_start_edge_ids = find_indices_of_edges_with_bottom_left_point(ew_edges, bottom_left_point)\n",
        "      edges_swap_bottom_left_to_x0y0(ew_edges[candidate_start_edge_ids])\n",
        "      start_edge_id = find_outermost_clockwise_edge_id_from_bottom_left(ew_edges, candidate_start_edge_ids)\n",
        "      ui_dict[\"exterior_walls\"] = find_clockwise_chain(ews, start_edge_id)\n",
        "\n",
        "      ew_mapping = {}\n",
        "      # adjust ew ids\n",
        "      for i, ew in enumerate(ui_dict[\"exterior_walls\"]):\n",
        "        ew_mapping[ew[0]] = i\n",
        "        ew[0] = i\n",
        "\n",
        "      # fix ew ids in connections_corners\n",
        "      for i, cc in enumerate(ui_dict[\"connections_corners\"]):\n",
        "        cc[1] = ew_mapping[cc[1]]\n",
        "        cc[3] = ew_mapping[cc[3]]\n",
        "\n",
        "      # sort connections_corners\n",
        "      cc = np.array(ui_dict[\"connections_corners\"])\n",
        "      ui_dict[\"connections_corners\"] = [ui_dict[\"connections_corners\"][i] for i in cc[:, 1].argsort()]\n",
        "\n",
        "      # fix room ids in connections_rooms\n",
        "      crs = ma.asarray(ui_dict[\"connections_rooms\"])\n",
        "      if not len(crs.shape) <=1:\n",
        "        for room_type in range(NUM_ROOM_TYPES):\n",
        "          # mask off all but room_type columns\n",
        "          crs[:,1] = ma.masked\n",
        "          crs[:,3:] = ma.masked\n",
        "          room_type_indices = np.nonzero(crs == room_type)\n",
        "          room_type_id_indices = (room_type_indices[0], room_type_indices[1]+1) # add one to columns to shift to room_type id columns\n",
        "          if room_type_id_indices[0].shape[0] > 0:\n",
        "            crs.mask = False\n",
        "            if room_type == 0:\n",
        "              for i in range(room_type_id_indices[0].shape[0]):\n",
        "                crs[room_type_id_indices[0][i],room_type_id_indices[1][i]] = ew_mapping[crs[room_type_id_indices[0][i],room_type_id_indices[1][i]]]\n",
        "            else:\n",
        "              room_type_ids_orig = np.sort(np.unique(crs[room_type_id_indices].flatten())).tolist()\n",
        "              room_type_ids_new = [i for i in range(len(room_type_ids_orig))]\n",
        "              room_type_ids_map = dict(zip(room_type_ids_orig, room_type_ids_new))\n",
        "\n",
        "              for i in range(room_type_id_indices[0].shape[0]):\n",
        "                crs[room_type_id_indices[0][i],room_type_id_indices[1][i]] = room_type_ids_map[crs[room_type_id_indices[0][i],room_type_id_indices[1][i]]]\n",
        "\n",
        "          crs.mask = False\n",
        "          ui_dict[\"connections_rooms\"] = crs.tolist()\n",
        "  except:\n",
        "    skipped_ids.append(ui_dict[\"floorplan_number\"])\n",
        "  ui_dicts[ui_dict[\"floorplan_number\"]] = ui_dict\n",
        "\n",
        "  i += 1\n",
        "  if i > 0: break"
      ]
    },
    {
      "cell_type": "code",
      "execution_count": 6,
      "metadata": {
        "colab": {
          "base_uri": "https://localhost:8080/"
        },
        "id": "SNQOGHNheJiw",
        "outputId": "e1c3410c-74d5-4a45-9f48-7017099e85c6"
      },
      "outputs": [
        {
          "name": "stdout",
          "output_type": "stream",
          "text": [
            "\n",
            "30654\n",
            "number_of_living_rooms 0\n",
            "living_rooms_plus? False\n",
            "number_of_bedrooms 4\n",
            "bedrooms_plus? True\n",
            "number_of_bathrooms 0\n",
            "bathrooms_plus? True\n",
            "exterior_walls\n",
            "[0, 71, 33, 71, 88, 1]\n",
            "[1, 71, 88, 71, 129, 0]\n",
            "[2, 71, 129, 121, 129, 0]\n",
            "[3, 121, 129, 121, 88, 0]\n",
            "[4, 121, 88, 121, 68, 1]\n",
            "[5, 121, 68, 139, 68, 0]\n",
            "[6, 139, 68, 158, 68, 0]\n",
            "[7, 158, 68, 158, 91, 1]\n",
            "[8, 158, 91, 158, 131, 0]\n",
            "[9, 158, 131, 197, 131, 1]\n",
            "[10, 197, 131, 245, 131, 1]\n",
            "[11, 245, 131, 245, 91, 0]\n",
            "[12, 245, 91, 245, 33, 0]\n",
            "[13, 245, 33, 210, 33, 1]\n",
            "[14, 210, 33, 173, 33, 1]\n",
            "[15, 173, 33, 139, 33, 0]\n",
            "[16, 139, 33, 122, 33, 0]\n",
            "[17, 122, 33, 100, 33, 0]\n",
            "[18, 100, 33, 71, 33, 1]\n",
            "connections_corners\n",
            "[0, 0, 0, 1, 0.0, 0]\n",
            "[0, 1, 0, 2, -90.0, 0]\n",
            "[0, 2, 0, 3, -90.0, 0]\n",
            "[0, 3, 0, 4, 0.0, 0]\n",
            "[0, 4, 0, 5, 90.0, 0]\n",
            "[0, 5, 0, 6, 0.0, 0]\n",
            "[0, 6, 0, 7, 90.0, 0]\n",
            "[0, 7, 0, 8, 0.0, 0]\n",
            "[0, 8, 0, 9, -90.0, 0]\n",
            "[0, 9, 0, 10, 0.0, 0]\n",
            "[0, 10, 0, 11, -90.0, 0]\n",
            "[0, 11, 0, 12, 0.0, 0]\n",
            "[0, 12, 0, 13, -90.0, 0]\n",
            "[0, 13, 0, 14, 0.0, 0]\n",
            "[0, 14, 0, 15, 0.0, 0]\n",
            "[0, 15, 0, 16, 0.0, 0]\n",
            "[0, 16, 0, 17, 0.0, 0]\n",
            "[0, 17, 0, 18, 0.0, 0]\n",
            "[0, 18, 0, 0, -90.0, 0]\n",
            "connections_rooms\n",
            "[4, 3, 0, 5, 0, 0]\n",
            "[2, 1, 6, 0, 0, 3]\n",
            "[4, 2, 0, 15, 0, 6]\n",
            "[4, 1, 0, 16, 0, 8]\n",
            "[4, 0, 0, 17, 0, 6]\n",
            "[4, 1, 4, 2, 0, 0]\n",
            "[2, 0, 0, 0, 1, 4]\n",
            "[3, 1, 3, 2, 0, 8]\n",
            "[2, 1, 4, 4, 1, 4]\n",
            "[3, 2, 0, 11, 0, 0]\n",
            "[3, 0, 0, 3, 0, 0]\n",
            "[6, 0, 3, 1, 0, 2]\n",
            "[2, 1, 3, 1, 1, 2]\n",
            "[3, 2, 0, 10, 1, 2]\n",
            "[2, 0, 3, 0, 0, 2]\n",
            "[4, 2, 4, 4, 1, 2]\n",
            "[4, 3, 4, 4, 0, 0]\n",
            "filename 30654.json\n",
            "floorplan_number 30654\n"
          ]
        }
      ],
      "source": [
        "sorted_ui_dicts = dict(sorted(ui_dicts.items()))\n",
        "# sorted_ui_list = sorted_ui_dicts.values()\n",
        "# with open(\"./user_input.p\", \"wb\") as file:\n",
        "#   pickle.dump(sorted_ui_list, file)\n",
        "for key in sorted_ui_dicts:\n",
        "  print(f\"\\n{key}\")\n",
        "  for inner_key in sorted_ui_dicts[key]:\n",
        "      if isinstance(sorted_ui_dicts[key][inner_key], list):\n",
        "        print(f\"{inner_key}\")\n",
        "        for item in sorted_ui_dicts[key][inner_key]:\n",
        "          print(item)\n",
        "      else:\n",
        "        print(f\"{inner_key} {sorted_ui_dicts[key][inner_key]}\")"
      ]
    },
    {
      "cell_type": "code",
      "execution_count": null,
      "metadata": {
        "colab": {
          "base_uri": "https://localhost:8080/"
        },
        "id": "o_iT1uO0YQdO",
        "outputId": "0185410b-7b5e-4c1a-e00c-eba1ab0a4dad"
      },
      "outputs": [],
      "source": [
        "#@title Load decision sequence #1\n",
        "with open(\"/content/drive/MyDrive/IAAIP/dataset/partial_graphs.pickle\", \"rb\") as file:\n",
        "  DS1 = pickle.load(file)"
      ]
    },
    {
      "cell_type": "code",
      "execution_count": null,
      "metadata": {
        "id": "RXrzRa5NYVvt"
      },
      "outputs": [],
      "source": [
        "#@title Load decision sequence #2\n"
      ]
    },
    {
      "cell_type": "code",
      "execution_count": null,
      "metadata": {
        "colab": {
          "base_uri": "https://localhost:8080/"
        },
        "id": "3hn2yoF4Y1Zu",
        "outputId": "2d9cb06a-ec11-402b-da4a-acac316440c4"
      },
      "outputs": [],
      "source": [
        "#@title Peruse DS's\n",
        "sorted_DS1 = dict(sorted(DS1.items()))\n",
        "print(list(sorted_DS1.items())[0][1][0:5])"
      ]
    }
  ],
  "metadata": {
    "colab": {
      "provenance": []
    },
    "kernelspec": {
      "display_name": "Python 3",
      "name": "python3"
    },
    "language_info": {
      "codemirror_mode": {
        "name": "ipython",
        "version": 3
      },
      "file_extension": ".py",
      "mimetype": "text/x-python",
      "name": "python",
      "nbconvert_exporter": "python",
      "pygments_lexer": "ipython3",
      "version": "3.8.10"
    }
  },
  "nbformat": 4,
  "nbformat_minor": 0
}
